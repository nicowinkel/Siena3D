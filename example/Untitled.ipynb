{
 "cells": [
  {
   "cell_type": "code",
   "execution_count": 10,
   "id": "4a4e1207",
   "metadata": {},
   "outputs": [],
   "source": [
    "from pathlib import Path\n",
    "from astropy.io import fits"
   ]
  },
  {
   "cell_type": "code",
   "execution_count": 36,
   "id": "440e5af4",
   "metadata": {},
   "outputs": [],
   "source": [
    "def plotly_best_fit(objname,line_list,run_dir):\n",
    "    \"\"\"\n",
    "    Generates an interactive HTML plot of the best fit model\n",
    "    \"\"\"\n",
    "    import plotly.graph_objects as go\n",
    "    from plotly.subplots import make_subplots\n",
    "    # Open the best_fit_components file\n",
    "    hdu = fits.open(run_dir.joinpath(\"Output\", \"best_model_components.fits\") )\n",
    "    tbdata = hdu[1].data\t # FITS table data is stored on FITS extension 1\n",
    "    cols = [i.name for i in tbdata.columns]\n",
    "    hdu.close()\n",
    "\n",
    "    # Create a figure with subplots\n",
    "    fig = make_subplots(rows=2, cols=1, row_heights=(3,1) )\n",
    "    # tracenames = []\n",
    "    # Plot\n",
    "    for comp in cols:\n",
    "        if comp==\"DATA\":\n",
    "            tracename = \"Data\"\n",
    "            fig.add_trace(go.Scatter( x = tbdata[\"wvl\"], y = tbdata[\"DATA\"] , mode=\"lines\", line=go.scatter.Line(color=\"white\", width=1), name=tracename, legendrank=1, showlegend=True), row=1, col=1)\n",
    "        if comp==\"MODEL\":\n",
    "            tracename=\"Model\"\n",
    "            fig.add_trace(go.Scatter( x = tbdata[\"wvl\"], y = tbdata[\"MODEL\"], mode=\"lines\", line=go.scatter.Line(color=\"red\"  , width=1), name=tracename, legendrank=2, showlegend=True), row=1, col=1)\n",
    "        if comp==\"NOISE\":\n",
    "            tracename=\"Noise\"\n",
    "            fig.add_trace(go.Scatter( x = tbdata[\"wvl\"], y = tbdata[\"NOISE\"], mode=\"lines\", line=go.scatter.Line(color=\"#FE00CE\"  , width=1), name=tracename, legendrank=3, showlegend=True), row=1, col=1)\n",
    "        # Continuum components\n",
    "        if comp==\"HOST_GALAXY\":\n",
    "            tracename=\"Host Galaxy\"\n",
    "            fig.add_trace(go.Scatter( x = tbdata[\"wvl\"], y = tbdata[\"HOST_GALAXY\"], mode=\"lines\", line=go.scatter.Line(color=\"lime\", width=1), name=tracename, legendrank=4, showlegend=True), row=1, col=1)\n",
    "        if comp==\"POWER\":\n",
    "            tracename=\"Power-law\"\n",
    "            fig.add_trace(go.Scatter( x = tbdata[\"wvl\"], y = tbdata[\"POWER\"], mode=\"lines\", line=go.scatter.Line(color=\"red\", width=1, dash=\"dash\"), name=tracename, legendrank=5, showlegend=True), row=1, col=1)\n",
    "        if comp==\"BALMER_CONT\":\n",
    "            tracename=\"Balmer cont.\"\n",
    "            fig.add_trace(go.Scatter( x = tbdata[\"wvl\"], y = tbdata[\"BALMER_CONT\"], mode=\"lines\", line=go.scatter.Line(color=\"lime\", width=1, dash=\"dash\"), name=tracename, legendrank=6, showlegend=True), row=1, col=1)\n",
    "        # FeII componentes\n",
    "        if comp==\"UV_IRON_TEMPLATE\":\n",
    "            tracename=\"UV Iron\"\n",
    "            fig.add_trace(go.Scatter( x = tbdata[\"wvl\"], y = tbdata[\"UV_IRON_TEMPLATE\"], mode=\"lines\", line=go.scatter.Line(color=\"#AB63FA\", width=1), name=tracename, legendrank=7, showlegend=True), row=1, col=1)\n",
    "        if comp==\"NA_OPT_FEII_TEMPLATE\":\n",
    "            tracename=\"Narrow FeII\"\n",
    "            fig.add_trace(go.Scatter( x = tbdata[\"wvl\"], y = tbdata[\"NA_OPT_FEII_TEMPLATE\"], mode=\"lines\", line=go.scatter.Line(color=\"rgb(255,255,51)\", width=1), name=tracename, legendrank=7, showlegend=True), row=1, col=1)\n",
    "        if comp==\"BR_OPT_FEII_TEMPLATE\":\n",
    "            tracename=\"Broad FeII\"\n",
    "            fig.add_trace(go.Scatter( x = tbdata[\"wvl\"], y = tbdata[\"BR_OPT_FEII_TEMPLATE\"], mode=\"lines\", line=go.scatter.Line(color=\"#FF7F0E\", width=1), name=tracename, legendrank=8, showlegend=True), row=1, col=1)\n",
    "        if comp=='F_OPT_FEII_TEMPLATE':\n",
    "            tracename=\"F-transition FeII\"\n",
    "            fig.add_trace(go.Scatter( x = tbdata[\"wvl\"], y = tbdata[\"F_OPT_FEII_TEMPLATE\"], mode=\"lines\", line=go.scatter.Line(color=\"rgb(255,255,51)\", width=1), name=tracename, legendrank=7, showlegend=True), row=1, col=1)\n",
    "        if comp=='S_OPT_FEII_TEMPLATE':\n",
    "            tracename=\"S-transition FeII\"\n",
    "            fig.add_trace(go.Scatter( x = tbdata[\"wvl\"], y = tbdata[\"S_OPT_FEII_TEMPLATE\"], mode=\"lines\", line=go.scatter.Line(color=\"rgb(230,171,2)\", width=1), name=tracename, legendrank=8, showlegend=True), row=1, col=1)\n",
    "        if comp=='G_OPT_FEII_TEMPLATE':\n",
    "            tracename=\"G-transition FeII\"\n",
    "            fig.add_trace(go.Scatter( x = tbdata[\"wvl\"], y = tbdata[\"G_OPT_FEII_TEMPLATE\"], mode=\"lines\", line=go.scatter.Line(color=\"#FF7F0E\", width=1), name=tracename, legendrank=9, showlegend=True), row=1, col=1)\n",
    "        if comp=='Z_OPT_FEII_TEMPLATE':\n",
    "            tracename=\"Z-transition FeII\"\n",
    "            fig.add_trace(go.Scatter( x = tbdata[\"wvl\"], y = tbdata[\"Z_OPT_FEII_TEMPLATE\"], mode=\"lines\", line=go.scatter.Line(color=\"rgb(217,95,2)\", width=1), name=tracename, legendrank=10, showlegend=True), row=1, col=1)\n",
    "        # Line components\n",
    "        if comp in line_list:\n",
    "                  # tracename=\"narrow line\"\n",
    "            fig.add_trace(go.Scatter( x = tbdata[\"wvl\"], y = tbdata[comp], mode=\"lines\", line=go.scatter.Line(color=\"#00B5F7\", width=1), name=comp, legendgroup=\"narrow lines\",legendgrouptitle_text=\"narrow lines\", legendrank=11,), row=1, col=1)\n",
    "                  # tracenames.append(tracename)\n",
    "            '''\n",
    "            if line_list[comp][\"line_type\"]==\"br\":\n",
    "                  # tracename=\"broad line\"\n",
    "                fig.add_trace(go.Scatter( x = tbdata[\"wvl\"], y = tbdata[comp], mode=\"lines\", line=go.scatter.Line(color=\"#22FFA7\", width=1), name=comp, legendgroup=\"broad lines\",legendgrouptitle_text=\"broad lines\", legendrank=13,), row=1, col=1)\n",
    "                  # tracenames.append(tracename)\n",
    "            if line_list[comp][\"line_type\"]==\"out\":\n",
    "                  # tracename=\"outflow line\"\n",
    "                fig.add_trace(go.Scatter( x = tbdata[\"wvl\"], y = tbdata[comp], mode=\"lines\", line=go.scatter.Line(color=\"#FC0080\", width=1), name=comp, legendgroup=\"outflow lines\",legendgrouptitle_text=\"outflow lines\", legendrank=14,), row=1, col=1)\n",
    "                  # tracenames.append(tracename)\n",
    "            if line_list[comp][\"line_type\"]==\"abs\":\n",
    "                  # tracename=\"absorption line\"\n",
    "                fig.add_trace(go.Scatter( x = tbdata[\"wvl\"], y = tbdata[comp], mode=\"lines\", line=go.scatter.Line(color=\"#DA16FF\", width=1), name=comp, legendgroup=\"absorption lines\",legendgrouptitle_text=\"absorption lines\", legendrank=15,), row=1, col=1)\n",
    "                  # tracenames.append(tracename)\n",
    "            if line_list[comp][\"line_type\"]==\"user\":\n",
    "                  # tracename=\"absorption line\"\n",
    "                fig.add_trace(go.Scatter( x = tbdata[\"wvl\"], y = tbdata[comp], mode=\"lines\", line=go.scatter.Line(color=\"rgb(153,201,59)\", width=1), name=comp, legendgroup=\"user lines\",legendgrouptitle_text=\"user lines\", legendrank=16,), row=1, col=1)\n",
    "                  # tracenames.append(tracename)\n",
    "            '''\n",
    "    fig.add_hline(y=0.0, line=dict(color=\"gray\", width=2), row=1, col=1)\n",
    "\n",
    "    # Plot bad pixels\n",
    "    # lam_gal = tbdata[\"wvl\"]\n",
    "    # ibad = [i for i in range(len(lam_gal)) if i not in fit_mask]\n",
    "    # if (len(ibad)>0):# and (len(ibad[0])>1):\n",
    "    # \tbad_wvl = [(lam_gal[m],lam_gal[m+1]) for m in ibad if ((m+1)<len(lam_gal))]\n",
    "    # \t# ax1.axvspan(bad_wvl[0][0],bad_wvl[0][0],alpha=0.25,color='xkcd:lime green',label=\"bad pixels\")\n",
    "    # \tfig.add_vrect(\n",
    "    # \t\t\t\t\tx0=bad_wvl[0][0], x1=bad_wvl[0][0],\n",
    "    # \t\t\t\t\tfillcolor=\"rgb(179,222,105)\", opacity=0.25,\n",
    "    # \t\t\t\t\tlayer=\"below\", line_width=0,name=\"bad pixels\",\n",
    "    # \t\t\t\t\t),\n",
    "    # \tfor i in bad_wvl[1:]:\n",
    "    # \t\t# ax1.axvspan(i[0],i[0],alpha=0.25,color='xkcd:lime green')\n",
    "    # \t\tfig.add_vrect(\n",
    "    # \t\t\t\t\t\tx0=i[0], x1=i[1],\n",
    "    # \t\t\t\t\t\tfillcolor=\"rgb(179,222,105)\", opacity=0.25,\n",
    "    # \t\t\t\t\t\tlayer=\"below\", line_width=0,name=\"bad pixels\",\n",
    "    # \t\t\t\t\t),\n",
    "\n",
    "    '''\n",
    "    # Residuals\n",
    "    fig.add_trace(go.Scatter( x = tbdata[\"wvl\"], y = tbdata[\"RESID\"], mode=\"lines\", line=go.scatter.Line(color=\"white\"  , width=1), name=\"Residuals\", showlegend=False), row=2, col=1)\n",
    "    fig.add_trace(go.Scatter( x = tbdata[\"wvl\"], y = tbdata[\"NOISE\"], mode=\"lines\", line=go.scatter.Line(color=\"#FE00CE\"  , width=1), name=\"Noise\", showlegend=False, legendrank=3,), row=2, col=1)\n",
    "    # Figure layout, size, margins\n",
    "    fig.update_layout(\n",
    "        autosize=False,\n",
    "        width=1700,\n",
    "        height=800,\n",
    "        margin=dict(\n",
    "            l=100,\n",
    "            r=100,\n",
    "            b=100,\n",
    "            t=100,\n",
    "            pad=1\n",
    "        ),\n",
    "        title= objname,\n",
    "        font_family=\"Times New Roman\",\n",
    "        font_size=16,\n",
    "        font_color=\"white\",\n",
    "        legend_title_text=\"Components\",\n",
    "        legend_bgcolor=\"black\",\n",
    "        paper_bgcolor=\"black\",\n",
    "        plot_bgcolor=\"black\",\n",
    "    )\n",
    "    '''\n",
    "    # Update x-axis properties\n",
    "    fig.update_xaxes(title=r\"$\\Large\\lambda_{\\rm{rest}}\\;\\left[Å\\right]$\", linewidth=0.5, linecolor=\"gray\", mirror=True,\n",
    "                     gridwidth=1, gridcolor=\"#222A2A\", zerolinewidth=2, zerolinecolor=\"#222A2A\",\n",
    "                     row=1, col=1)\n",
    "    fig.update_xaxes(title=r\"$\\Large\\lambda_{\\rm{rest}}\\;\\left[Å\\right]$\", linewidth=0.5, linecolor=\"gray\", mirror=True,\n",
    "                     gridwidth=1, gridcolor=\"#222A2A\", zerolinewidth=2, zerolinecolor=\"#222A2A\",\n",
    "                     row=2, col=1)\n",
    "    # Update y-axis properties\n",
    "    fig.update_yaxes(title=r\"$\\Large f_\\lambda\\;\\left[\\rm{erg}\\;\\rm{cm}^{-2}\\;\\rm{s}^{-1}\\;Å^{-1}\\right]$\", linewidth=0.5, linecolor=\"gray\",  mirror=True,\n",
    "                     gridwidth=1, gridcolor=\"#222A2A\", zerolinewidth=2, zerolinecolor=\"#222A2A\",\n",
    "                     row=1, col=1)\n",
    "    fig.update_yaxes(title=r\"$\\Large\\Delta f_\\lambda$\", linewidth=0.5, linecolor=\"gray\", mirror=True,\n",
    "                     gridwidth=1, gridcolor=\"#222A2A\", zerolinewidth=2, zerolinecolor=\"#222A2A\",\n",
    "                     row=2, col=1)\n",
    "\n",
    "    fig.update_xaxes(matches='x')\n",
    "    # fig.update_yaxes(matches='y')\n",
    "    # fig.show()\n",
    "\n",
    "    # Write to HTML\n",
    "    fig.write_html(run_dir.joinpath(\"%s_bestfit.html\" % objname),include_mathjax=\"cdn\")\n",
    "    # Write to PDF\n",
    "    # fig.write_image(run_dir.joinpath(\"%s_bestfit.pdf\" % objname))\n",
    "    \n",
    "    \n",
    "    fig.show()\n",
    "    return None"
   ]
  },
  {
   "cell_type": "code",
   "execution_count": 37,
   "id": "2cb846f8",
   "metadata": {},
   "outputs": [
    {
     "data": {
      "application/vnd.plotly.v1+json": {
       "config": {
        "plotlyServerURL": "https://plot.ly"
       },
       "data": [
        {
         "legendgroup": "narrow lines",
         "legendgrouptitle": {
          "text": "narrow lines"
         },
         "legendrank": 11,
         "line": {
          "color": "#00B5F7",
          "width": 1
         },
         "mode": "lines",
         "name": "Hb_broad",
         "type": "scatter",
         "x": [
          4751.1178327600555,
          4752.347690155631,
          4753.577547551206,
          4754.807404946781,
          4756.037262342357,
          4757.267119737932,
          4758.496977133507,
          4759.726834529082,
          4760.956691924658,
          4762.186549320233,
          4763.416406715808,
          4764.646264111384,
          4765.876121506959,
          4767.105978902534,
          4768.33583629811,
          4769.565693693685,
          4770.79555108926,
          4772.025408484836,
          4773.255265880411,
          4774.485123275986,
          4775.7149806715615,
          4776.9448380671365,
          4778.1746954627115,
          4779.404552858287,
          4780.634410253862,
          4781.864267649437,
          4783.094125045012,
          4784.323982440588,
          4785.553839836163,
          4786.783697231738,
          4788.013554627314,
          4789.243412022889,
          4790.473269418464,
          4791.70312681404,
          4792.932984209615,
          4794.16284160519,
          4795.392699000766,
          4796.622556396341,
          4797.852413791916,
          4799.082271187492,
          4800.312128583067,
          4801.541985978642,
          4802.7718433742175,
          4804.0017007697925,
          4805.2315581653675,
          4806.461415560942,
          4807.691272956518,
          4808.921130352093,
          4810.150987747668,
          4811.380845143244,
          4812.610702538819,
          4813.840559934394,
          4815.07041732997,
          4816.300274725545,
          4817.53013212112,
          4818.759989516696,
          4819.989846912271,
          4821.219704307846,
          4822.449561703422,
          4823.679419098997,
          4824.909276494572,
          4826.139133890148,
          4827.368991285723,
          4828.598848681298,
          4829.828706076873,
          4831.058563472448,
          4832.288420868023,
          4833.518278263598,
          4834.748135659174,
          4835.977993054749,
          4837.207850450324,
          4838.4377078459,
          4839.667565241475,
          4840.89742263705,
          4842.127280032626,
          4843.357137428201,
          4844.586994823776,
          4845.816852219352,
          4847.046709614927,
          4848.276567010502,
          4849.506424406077,
          4850.736281801653,
          4851.966139197228,
          4853.195996592803,
          4854.425853988379,
          4855.6557113839535,
          4856.8855687795285,
          4858.115426175104,
          4859.345283570679,
          4860.575140966254,
          4861.80499836183,
          4863.034855757405,
          4864.26471315298,
          4865.494570548556,
          4866.724427944131,
          4867.954285339706,
          4869.184142735282,
          4870.414000130857,
          4871.643857526432,
          4872.873714922007,
          4874.103572317583,
          4875.333429713158,
          4876.563287108733,
          4877.793144504309,
          4879.023001899884,
          4880.252859295459,
          4881.4827166910345,
          4882.7125740866095,
          4883.9424314821845,
          4885.17228887776,
          4886.402146273335,
          4887.63200366891,
          4888.861861064486,
          4890.091718460061,
          4891.321575855636,
          4892.551433251212,
          4893.781290646787,
          4895.011148042362,
          4896.241005437937,
          4897.470862833513,
          4898.700720229088,
          4899.930577624663,
          4901.160435020239,
          4902.390292415814,
          4903.620149811389,
          4904.850007206965,
          4906.07986460254,
          4907.309721998115,
          4908.5395793936905,
          4909.7694367892655,
          4910.99929418484,
          4912.229151580416,
          4913.459008975991,
          4914.688866371566,
          4915.918723767142,
          4917.148581162717,
          4918.378438558292,
          4919.608295953867,
          4920.838153349443,
          4922.068010745018,
          4923.297868140593,
          4924.527725536169,
          4925.757582931744,
          4926.987440327319,
          4928.217297722895,
          4929.44715511847,
          4930.677012514045,
          4931.906869909621,
          4933.136727305196,
          4934.3665847007705,
          4935.596442096346,
          4936.826299491921,
          4938.056156887496,
          4939.286014283071,
          4940.515871678647,
          4941.745729074222,
          4942.975586469797,
          4944.205443865373,
          4945.435301260948,
          4946.665158656523,
          4947.895016052099,
          4949.124873447674,
          4950.354730843249,
          4951.584588238825,
          4952.8144456344,
          4954.044303029975,
          4955.274160425551,
          4956.504017821126,
          4957.733875216701,
          4958.9637326122765,
          4960.1935900078515,
          4961.4234474034265,
          4962.6533047990015,
          4963.883162194577,
          4965.113019590152,
          4966.342876985727,
          4967.572734381303,
          4968.802591776878,
          4970.032449172453,
          4971.262306568029,
          4972.492163963604,
          4973.722021359179,
          4974.951878754755,
          4976.18173615033,
          4977.411593545905,
          4978.641450941481,
          4979.871308337056,
          4981.101165732631,
          4982.331023128207,
          4983.560880523782,
          4984.790737919357,
          4986.020595314932,
          4987.2504527105075,
          4988.4803101060825,
          4989.710167501657,
          4990.940024897233,
          4992.169882292808,
          4993.399739688383,
          4994.629597083959,
          4995.859454479534,
          4997.089311875109,
          4998.319169270685,
          4999.54902666626,
          5000.778884061835,
          5002.008741457411,
          5003.238598852986,
          5004.468456248561,
          5005.698313644137,
          5006.928171039712,
          5008.158028435287,
          5009.387885830862,
          5010.617743226438,
          5011.847600622013,
          5013.077458017588,
          5014.307315413163,
          5015.537172808738,
          5016.767030204313,
          5017.996887599889,
          5019.226744995464,
          5020.456602391039,
          5021.686459786615,
          5022.91631718219,
          5024.146174577765,
          5025.376031973341,
          5026.605889368916,
          5027.835746764491,
          5029.065604160066,
          5030.295461555642,
          5031.525318951217,
          5032.755176346792,
          5033.985033742368,
          5035.214891137943,
          5036.444748533518,
          5037.674605929094,
          5038.9044633246685,
          5040.1343207202435,
          5041.364178115819,
          5042.594035511394,
          5043.823892906969,
          5045.053750302545,
          5046.28360769812,
          5047.513465093695,
          5048.743322489271,
          5049.973179884846,
          5051.203037280421,
          5052.432894675996,
          5053.662752071572,
          5054.892609467147,
          5056.122466862722,
          5057.352324258298,
          5058.582181653873,
          5059.812039049448,
          5061.041896445024,
          5062.271753840599,
          5063.501611236174,
          5064.7314686317495,
          5065.9613260273245,
          5067.1911834228995,
          5068.421040818475,
          5069.65089821405,
          5070.880755609625,
          5072.110613005201,
          5073.340470400776,
          5074.570327796351,
          5075.800185191926,
          5077.030042587502,
          5078.259899983077,
          5079.489757378652,
          5080.719614774228,
          5081.949472169803,
          5083.179329565378,
          5084.409186960954,
          5085.639044356529,
          5086.868901752104,
          5088.09875914768,
          5089.328616543255,
          5090.55847393883,
          5091.7883313344055,
          5093.0181887299805,
          5094.248046125555,
          5095.477903521131,
          5096.707760916706,
          5097.937618312281,
          5099.167475707856
         ],
         "xaxis": "x",
         "y": [
          4.1358435507525296e-06,
          5.4561420198732455e-06,
          7.174514787048803e-06,
          9.403395628676351e-06,
          1.2284633004614516e-05,
          1.5996499973627075e-05,
          2.0762185034580433e-05,
          2.6860027282025238e-05,
          3.463579387404785e-05,
          4.451733400702253e-05,
          5.703198064474971e-05,
          7.282710817711257e-05,
          9.269428972312498e-05,
          0.0001175975303680876,
          0.00014870608031788813,
          0.00018743235249260557,
          0.00023547547982688042,
          0.00029487104549674265,
          0.00036804750112020505,
          0.0004578897500565063,
          0.0005678103114088033,
          0.0007018283912509956,
          0.0008646570669812768,
          0.0010617986347431674,
          0.00129964797510258,
          0.0015856035557439108,
          0.0019281854097894392,
          0.002337159103516736,
          0.002823664338163003,
          0.0034003464193065485,
          0.004081488378068177,
          0.004883141047449856,
          0.005823247893314639,
          0.0069217608842442446,
          0.008200743172025817,
          0.009684453861714577,
          0.011399409696610982,
          0.013374418091059149,
          0.015640575636534638,
          0.018231226009265977,
          0.02118187114667613,
          0.024530029660882025,
          0.028315036744777353,
          0.03257778032210324,
          0.03736036891569407,
          0.0427057276711712,
          0.0486571201842594,
          0.05525759523795451,
          0.06254935925243675,
          0.07057307716691744,
          0.07936710658028501,
          0.0889666722367536,
          0.09940299030363454,
          0.11070235429133676,
          0.12288519684118727,
          0.13596514387768943,
          0.1499480797065934,
          0.16483124345234185,
          0.18060237868174683,
          0.1972389590726451,
          0.2147075134788929,
          0.23296307364883415,
          0.2519487671201617,
          0.27159557640141957,
          0.2918222834410071,
          0.31253561558359993,
          0.33363060574723025,
          0.3549911754757131,
          0.37649094490577295,
          0.39799426863857507,
          0.4193574911422943,
          0.44043040977677783,
          0.46105792798033035,
          0.48108187575650446,
          0.5003429695156848,
          0.5186828787320851,
          0.5359463629310718,
          0.5519834393714808,
          0.5666515395608193,
          0.5798176115381932,
          0.5913601247520959,
          0.6011709353865305,
          0.6091569721494803,
          0.6152417057981061,
          0.6193663699617838,
          0.6214909060306845,
          0.6215946108639402,
          0.6196764726713561,
          0.615755187448039,
          0.6098688555885762,
          0.602074365565716,
          0.5924464786160908,
          0.5810766350279088,
          0.568071508683104,
          0.5535513417994669,
          0.5376480962048754,
          0.5205034608453044,
          0.502266757503774,
          0.48309278785007254,
          0.4631396649490309,
          0.44256667126118815,
          0.42153218304359935,
          0.4001916979973403,
          0.37869599913818025,
          0.3571894833311408,
          0.33580867788929736,
          0.3146809632603597,
          0.29392351428023156,
          0.2736424669285757,
          0.2539323121343569,
          0.23487551309079965,
          0.21654233787482186,
          0.1989908950285917,
          0.18226735622857207,
          0.1664063472962519,
          0.1514314866246074,
          0.13735604861040357,
          0.12418372887992424,
          0.11190948793871973,
          0.10052045031097072,
          0.08999683719623643,
          0.08031291208315758,
          0.07143792053932824,
          0.06333700745693009,
          0.05597209728975775,
          0.04930272518583916,
          0.04328680932302173,
          0.03788135712322067,
          0.033043100293349205,
          0.028729055765908257,
          0.024897011549771614,
          0.02150593822188689,
          0.018516328273640806,
          0.015890466761953746,
          0.01359263770355263,
          0.011589271397662521,
          0.009849038380684527,
          0.008342896024205071,
          0.007044093906561597,
          0.005928144042662625,
          0.004972761872298133,
          0.0041577836098773075,
          0.0034650651736326536,
          0.0028783674639725624,
          0.0023832322709432413,
          0.001966852579439803,
          0.0016179405251427136,
          0.0013265957486017753,
          0.0010841764111540243,
          0.0008831746835499587,
          0.0007170981028408833,
          0.0005803578195491127,
          0.00046816442773141406,
          0.0003764317858401637,
          0.0003016889954540004,
          0.00024100050605035635,
          0.0001918941542075947,
          0.0001522968215577794,
          0.00012047730367505107,
          9.499591792607998e-05,
          7.46603381492866e-05,
          5.848712400357989e-05,
          4.566840928727857e-05,
          3.5543223106494645e-05,
          2.7572937434914738e-05,
          2.132036167849491e-05,
          1.64320370274173e-05,
          1.2623318691367959e-05,
          9.66587096305472e-06,
          7.3772371444712675e-06,
          5.612182692387971e-06,
          4.255544738543841e-06,
          3.216353878287188e-06,
          2.4230244455720665e-06,
          1.8194372011263884e-06,
          1.3617633749767138e-06,
          1.0159013406803564e-06,
          7.554169444512289e-07,
          5.598958073478051e-07,
          4.136309365997073e-07,
          3.04581917223144e-07,
          2.2355301086364048e-07,
          1.63546869458141e-07,
          1.1925847517266015e-07,
          8.668053309440536e-08,
          6.279704381562841e-08,
          4.5346328568881945e-08,
          3.263851313127172e-08,
          2.3415525353901225e-08,
          1.6744136314722564e-08,
          1.1934573418263531e-08,
          8.47883833462346e-09,
          6.004144193613961e-09,
          4.23790461095398e-09,
          2.981511888611962e-09,
          2.090774614299095e-09,
          1.4613801230080052e-09,
          1.018132915965688e-09,
          7.070189680519801e-10,
          4.893763269277257e-10,
          3.376293194362793e-10,
          2.3217884926635014e-10,
          1.591440698112366e-10,
          1.0872854354586087e-10,
          7.404265542540786e-11,
          5.02580582610812e-11,
          3.400280383075223e-11,
          2.2930264222794557e-11,
          1.541305374995499e-11,
          1.0326511462749807e-11,
          6.89610514671576e-12,
          4.590282588756739e-12,
          3.0455117201212514e-12,
          2.0140323053407104e-12,
          1.3275714200994415e-12,
          8.722373125987415e-13,
          5.712112237493175e-13,
          3.728585517159323e-13,
          2.42592175426594e-13,
          1.5732392554558945e-13,
          1.0169464027967961e-13,
          6.552192664465346e-14,
          4.207852991684332e-14,
          2.6935172592832345e-14,
          1.718558307462437e-14,
          1.0929343734500218e-14,
          6.928021123403446e-15,
          4.37733340064988e-15,
          2.7567371162291917e-15,
          1.7304792089144144e-15,
          1.082736363372417e-15,
          6.752496445695403e-16,
          4.19750585437501e-16,
          2.6007796689157387e-16,
          1.606205531208228e-16,
          9.887442649460201e-17,
          6.066694733304687e-17,
          3.710270831769902e-17,
          2.2617488936040368e-17,
          1.3742586068966447e-17,
          8.32296080352357e-18,
          5.024265000135459e-18,
          3.0231001226801437e-18,
          1.8130835964066246e-18,
          1.0838481263869066e-18,
          6.458093647837662e-19,
          3.8355314682225155e-19,
          2.270555211297724e-19,
          1.3397503771909201e-19,
          7.87954270991791e-20,
          4.619164666504121e-20,
          2.6990515525524546e-20,
          1.5719698775453154e-20,
          9.12562386681357e-21,
          5.280392599393236e-21,
          3.045475904289633e-21,
          1.7507713311218835e-21,
          1.003203387152195e-21,
          5.729726049116786e-22,
          3.2618503381018295e-22,
          1.850885307966876e-22,
          1.046839955221062e-22,
          5.901553886927005e-23,
          3.316177501375989e-23,
          1.8573530559226687e-23,
          1.0368990236447176e-23,
          5.769840012314205e-24,
          3.2001945503984035e-24,
          1.769189267930004e-24,
          9.748942655739313e-25,
          5.3545877502379215e-25,
          2.9314323018242205e-25,
          1.5996280194929126e-25,
          8.700484568599021e-26,
          4.716862148909751e-26,
          2.5488732050198032e-26,
          1.3728673740085125e-26,
          7.370454020880088e-27,
          3.944075346957302e-27,
          2.1036886774694718e-27,
          1.1184151480384834e-27,
          5.926658676728717e-28,
          3.1304163048081013e-28,
          1.6480849067556526e-28
         ],
         "yaxis": "y"
        }
       ],
       "layout": {
        "shapes": [
         {
          "line": {
           "color": "gray",
           "width": 2
          },
          "type": "line",
          "x0": 0,
          "x1": 1,
          "xref": "x domain",
          "y0": 0,
          "y1": 0,
          "yref": "y"
         }
        ],
        "template": {
         "data": {
          "bar": [
           {
            "error_x": {
             "color": "#2a3f5f"
            },
            "error_y": {
             "color": "#2a3f5f"
            },
            "marker": {
             "line": {
              "color": "#E5ECF6",
              "width": 0.5
             },
             "pattern": {
              "fillmode": "overlay",
              "size": 10,
              "solidity": 0.2
             }
            },
            "type": "bar"
           }
          ],
          "barpolar": [
           {
            "marker": {
             "line": {
              "color": "#E5ECF6",
              "width": 0.5
             },
             "pattern": {
              "fillmode": "overlay",
              "size": 10,
              "solidity": 0.2
             }
            },
            "type": "barpolar"
           }
          ],
          "carpet": [
           {
            "aaxis": {
             "endlinecolor": "#2a3f5f",
             "gridcolor": "white",
             "linecolor": "white",
             "minorgridcolor": "white",
             "startlinecolor": "#2a3f5f"
            },
            "baxis": {
             "endlinecolor": "#2a3f5f",
             "gridcolor": "white",
             "linecolor": "white",
             "minorgridcolor": "white",
             "startlinecolor": "#2a3f5f"
            },
            "type": "carpet"
           }
          ],
          "choropleth": [
           {
            "colorbar": {
             "outlinewidth": 0,
             "ticks": ""
            },
            "type": "choropleth"
           }
          ],
          "contour": [
           {
            "colorbar": {
             "outlinewidth": 0,
             "ticks": ""
            },
            "colorscale": [
             [
              0,
              "#0d0887"
             ],
             [
              0.1111111111111111,
              "#46039f"
             ],
             [
              0.2222222222222222,
              "#7201a8"
             ],
             [
              0.3333333333333333,
              "#9c179e"
             ],
             [
              0.4444444444444444,
              "#bd3786"
             ],
             [
              0.5555555555555556,
              "#d8576b"
             ],
             [
              0.6666666666666666,
              "#ed7953"
             ],
             [
              0.7777777777777778,
              "#fb9f3a"
             ],
             [
              0.8888888888888888,
              "#fdca26"
             ],
             [
              1,
              "#f0f921"
             ]
            ],
            "type": "contour"
           }
          ],
          "contourcarpet": [
           {
            "colorbar": {
             "outlinewidth": 0,
             "ticks": ""
            },
            "type": "contourcarpet"
           }
          ],
          "heatmap": [
           {
            "colorbar": {
             "outlinewidth": 0,
             "ticks": ""
            },
            "colorscale": [
             [
              0,
              "#0d0887"
             ],
             [
              0.1111111111111111,
              "#46039f"
             ],
             [
              0.2222222222222222,
              "#7201a8"
             ],
             [
              0.3333333333333333,
              "#9c179e"
             ],
             [
              0.4444444444444444,
              "#bd3786"
             ],
             [
              0.5555555555555556,
              "#d8576b"
             ],
             [
              0.6666666666666666,
              "#ed7953"
             ],
             [
              0.7777777777777778,
              "#fb9f3a"
             ],
             [
              0.8888888888888888,
              "#fdca26"
             ],
             [
              1,
              "#f0f921"
             ]
            ],
            "type": "heatmap"
           }
          ],
          "heatmapgl": [
           {
            "colorbar": {
             "outlinewidth": 0,
             "ticks": ""
            },
            "colorscale": [
             [
              0,
              "#0d0887"
             ],
             [
              0.1111111111111111,
              "#46039f"
             ],
             [
              0.2222222222222222,
              "#7201a8"
             ],
             [
              0.3333333333333333,
              "#9c179e"
             ],
             [
              0.4444444444444444,
              "#bd3786"
             ],
             [
              0.5555555555555556,
              "#d8576b"
             ],
             [
              0.6666666666666666,
              "#ed7953"
             ],
             [
              0.7777777777777778,
              "#fb9f3a"
             ],
             [
              0.8888888888888888,
              "#fdca26"
             ],
             [
              1,
              "#f0f921"
             ]
            ],
            "type": "heatmapgl"
           }
          ],
          "histogram": [
           {
            "marker": {
             "pattern": {
              "fillmode": "overlay",
              "size": 10,
              "solidity": 0.2
             }
            },
            "type": "histogram"
           }
          ],
          "histogram2d": [
           {
            "colorbar": {
             "outlinewidth": 0,
             "ticks": ""
            },
            "colorscale": [
             [
              0,
              "#0d0887"
             ],
             [
              0.1111111111111111,
              "#46039f"
             ],
             [
              0.2222222222222222,
              "#7201a8"
             ],
             [
              0.3333333333333333,
              "#9c179e"
             ],
             [
              0.4444444444444444,
              "#bd3786"
             ],
             [
              0.5555555555555556,
              "#d8576b"
             ],
             [
              0.6666666666666666,
              "#ed7953"
             ],
             [
              0.7777777777777778,
              "#fb9f3a"
             ],
             [
              0.8888888888888888,
              "#fdca26"
             ],
             [
              1,
              "#f0f921"
             ]
            ],
            "type": "histogram2d"
           }
          ],
          "histogram2dcontour": [
           {
            "colorbar": {
             "outlinewidth": 0,
             "ticks": ""
            },
            "colorscale": [
             [
              0,
              "#0d0887"
             ],
             [
              0.1111111111111111,
              "#46039f"
             ],
             [
              0.2222222222222222,
              "#7201a8"
             ],
             [
              0.3333333333333333,
              "#9c179e"
             ],
             [
              0.4444444444444444,
              "#bd3786"
             ],
             [
              0.5555555555555556,
              "#d8576b"
             ],
             [
              0.6666666666666666,
              "#ed7953"
             ],
             [
              0.7777777777777778,
              "#fb9f3a"
             ],
             [
              0.8888888888888888,
              "#fdca26"
             ],
             [
              1,
              "#f0f921"
             ]
            ],
            "type": "histogram2dcontour"
           }
          ],
          "mesh3d": [
           {
            "colorbar": {
             "outlinewidth": 0,
             "ticks": ""
            },
            "type": "mesh3d"
           }
          ],
          "parcoords": [
           {
            "line": {
             "colorbar": {
              "outlinewidth": 0,
              "ticks": ""
             }
            },
            "type": "parcoords"
           }
          ],
          "pie": [
           {
            "automargin": true,
            "type": "pie"
           }
          ],
          "scatter": [
           {
            "fillpattern": {
             "fillmode": "overlay",
             "size": 10,
             "solidity": 0.2
            },
            "type": "scatter"
           }
          ],
          "scatter3d": [
           {
            "line": {
             "colorbar": {
              "outlinewidth": 0,
              "ticks": ""
             }
            },
            "marker": {
             "colorbar": {
              "outlinewidth": 0,
              "ticks": ""
             }
            },
            "type": "scatter3d"
           }
          ],
          "scattercarpet": [
           {
            "marker": {
             "colorbar": {
              "outlinewidth": 0,
              "ticks": ""
             }
            },
            "type": "scattercarpet"
           }
          ],
          "scattergeo": [
           {
            "marker": {
             "colorbar": {
              "outlinewidth": 0,
              "ticks": ""
             }
            },
            "type": "scattergeo"
           }
          ],
          "scattergl": [
           {
            "marker": {
             "colorbar": {
              "outlinewidth": 0,
              "ticks": ""
             }
            },
            "type": "scattergl"
           }
          ],
          "scattermapbox": [
           {
            "marker": {
             "colorbar": {
              "outlinewidth": 0,
              "ticks": ""
             }
            },
            "type": "scattermapbox"
           }
          ],
          "scatterpolar": [
           {
            "marker": {
             "colorbar": {
              "outlinewidth": 0,
              "ticks": ""
             }
            },
            "type": "scatterpolar"
           }
          ],
          "scatterpolargl": [
           {
            "marker": {
             "colorbar": {
              "outlinewidth": 0,
              "ticks": ""
             }
            },
            "type": "scatterpolargl"
           }
          ],
          "scatterternary": [
           {
            "marker": {
             "colorbar": {
              "outlinewidth": 0,
              "ticks": ""
             }
            },
            "type": "scatterternary"
           }
          ],
          "surface": [
           {
            "colorbar": {
             "outlinewidth": 0,
             "ticks": ""
            },
            "colorscale": [
             [
              0,
              "#0d0887"
             ],
             [
              0.1111111111111111,
              "#46039f"
             ],
             [
              0.2222222222222222,
              "#7201a8"
             ],
             [
              0.3333333333333333,
              "#9c179e"
             ],
             [
              0.4444444444444444,
              "#bd3786"
             ],
             [
              0.5555555555555556,
              "#d8576b"
             ],
             [
              0.6666666666666666,
              "#ed7953"
             ],
             [
              0.7777777777777778,
              "#fb9f3a"
             ],
             [
              0.8888888888888888,
              "#fdca26"
             ],
             [
              1,
              "#f0f921"
             ]
            ],
            "type": "surface"
           }
          ],
          "table": [
           {
            "cells": {
             "fill": {
              "color": "#EBF0F8"
             },
             "line": {
              "color": "white"
             }
            },
            "header": {
             "fill": {
              "color": "#C8D4E3"
             },
             "line": {
              "color": "white"
             }
            },
            "type": "table"
           }
          ]
         },
         "layout": {
          "annotationdefaults": {
           "arrowcolor": "#2a3f5f",
           "arrowhead": 0,
           "arrowwidth": 1
          },
          "autotypenumbers": "strict",
          "coloraxis": {
           "colorbar": {
            "outlinewidth": 0,
            "ticks": ""
           }
          },
          "colorscale": {
           "diverging": [
            [
             0,
             "#8e0152"
            ],
            [
             0.1,
             "#c51b7d"
            ],
            [
             0.2,
             "#de77ae"
            ],
            [
             0.3,
             "#f1b6da"
            ],
            [
             0.4,
             "#fde0ef"
            ],
            [
             0.5,
             "#f7f7f7"
            ],
            [
             0.6,
             "#e6f5d0"
            ],
            [
             0.7,
             "#b8e186"
            ],
            [
             0.8,
             "#7fbc41"
            ],
            [
             0.9,
             "#4d9221"
            ],
            [
             1,
             "#276419"
            ]
           ],
           "sequential": [
            [
             0,
             "#0d0887"
            ],
            [
             0.1111111111111111,
             "#46039f"
            ],
            [
             0.2222222222222222,
             "#7201a8"
            ],
            [
             0.3333333333333333,
             "#9c179e"
            ],
            [
             0.4444444444444444,
             "#bd3786"
            ],
            [
             0.5555555555555556,
             "#d8576b"
            ],
            [
             0.6666666666666666,
             "#ed7953"
            ],
            [
             0.7777777777777778,
             "#fb9f3a"
            ],
            [
             0.8888888888888888,
             "#fdca26"
            ],
            [
             1,
             "#f0f921"
            ]
           ],
           "sequentialminus": [
            [
             0,
             "#0d0887"
            ],
            [
             0.1111111111111111,
             "#46039f"
            ],
            [
             0.2222222222222222,
             "#7201a8"
            ],
            [
             0.3333333333333333,
             "#9c179e"
            ],
            [
             0.4444444444444444,
             "#bd3786"
            ],
            [
             0.5555555555555556,
             "#d8576b"
            ],
            [
             0.6666666666666666,
             "#ed7953"
            ],
            [
             0.7777777777777778,
             "#fb9f3a"
            ],
            [
             0.8888888888888888,
             "#fdca26"
            ],
            [
             1,
             "#f0f921"
            ]
           ]
          },
          "colorway": [
           "#636efa",
           "#EF553B",
           "#00cc96",
           "#ab63fa",
           "#FFA15A",
           "#19d3f3",
           "#FF6692",
           "#B6E880",
           "#FF97FF",
           "#FECB52"
          ],
          "font": {
           "color": "#2a3f5f"
          },
          "geo": {
           "bgcolor": "white",
           "lakecolor": "white",
           "landcolor": "#E5ECF6",
           "showlakes": true,
           "showland": true,
           "subunitcolor": "white"
          },
          "hoverlabel": {
           "align": "left"
          },
          "hovermode": "closest",
          "mapbox": {
           "style": "light"
          },
          "paper_bgcolor": "white",
          "plot_bgcolor": "#E5ECF6",
          "polar": {
           "angularaxis": {
            "gridcolor": "white",
            "linecolor": "white",
            "ticks": ""
           },
           "bgcolor": "#E5ECF6",
           "radialaxis": {
            "gridcolor": "white",
            "linecolor": "white",
            "ticks": ""
           }
          },
          "scene": {
           "xaxis": {
            "backgroundcolor": "#E5ECF6",
            "gridcolor": "white",
            "gridwidth": 2,
            "linecolor": "white",
            "showbackground": true,
            "ticks": "",
            "zerolinecolor": "white"
           },
           "yaxis": {
            "backgroundcolor": "#E5ECF6",
            "gridcolor": "white",
            "gridwidth": 2,
            "linecolor": "white",
            "showbackground": true,
            "ticks": "",
            "zerolinecolor": "white"
           },
           "zaxis": {
            "backgroundcolor": "#E5ECF6",
            "gridcolor": "white",
            "gridwidth": 2,
            "linecolor": "white",
            "showbackground": true,
            "ticks": "",
            "zerolinecolor": "white"
           }
          },
          "shapedefaults": {
           "line": {
            "color": "#2a3f5f"
           }
          },
          "ternary": {
           "aaxis": {
            "gridcolor": "white",
            "linecolor": "white",
            "ticks": ""
           },
           "baxis": {
            "gridcolor": "white",
            "linecolor": "white",
            "ticks": ""
           },
           "bgcolor": "#E5ECF6",
           "caxis": {
            "gridcolor": "white",
            "linecolor": "white",
            "ticks": ""
           }
          },
          "title": {
           "x": 0.05
          },
          "xaxis": {
           "automargin": true,
           "gridcolor": "white",
           "linecolor": "white",
           "ticks": "",
           "title": {
            "standoff": 15
           },
           "zerolinecolor": "white",
           "zerolinewidth": 2
          },
          "yaxis": {
           "automargin": true,
           "gridcolor": "white",
           "linecolor": "white",
           "ticks": "",
           "title": {
            "standoff": 15
           },
           "zerolinecolor": "white",
           "zerolinewidth": 2
          }
         }
        },
        "xaxis": {
         "anchor": "y",
         "domain": [
          0,
          1
         ],
         "gridcolor": "#222A2A",
         "gridwidth": 1,
         "linecolor": "gray",
         "linewidth": 0.5,
         "matches": "x",
         "mirror": true,
         "title": {
          "text": "$\\Large\\lambda_{\\rm{rest}}\\;\\left[Å\\right]$"
         },
         "zerolinecolor": "#222A2A",
         "zerolinewidth": 2
        },
        "xaxis2": {
         "anchor": "y2",
         "domain": [
          0,
          1
         ],
         "gridcolor": "#222A2A",
         "gridwidth": 1,
         "linecolor": "gray",
         "linewidth": 0.5,
         "matches": "x",
         "mirror": true,
         "title": {
          "text": "$\\Large\\lambda_{\\rm{rest}}\\;\\left[Å\\right]$"
         },
         "zerolinecolor": "#222A2A",
         "zerolinewidth": 2
        },
        "yaxis": {
         "anchor": "x",
         "domain": [
          0.3625,
          1
         ],
         "gridcolor": "#222A2A",
         "gridwidth": 1,
         "linecolor": "gray",
         "linewidth": 0.5,
         "mirror": true,
         "title": {
          "text": "$\\Large f_\\lambda\\;\\left[\\rm{erg}\\;\\rm{cm}^{-2}\\;\\rm{s}^{-1}\\;Å^{-1}\\right]$"
         },
         "zerolinecolor": "#222A2A",
         "zerolinewidth": 2
        },
        "yaxis2": {
         "anchor": "x2",
         "domain": [
          0,
          0.2125
         ],
         "gridcolor": "#222A2A",
         "gridwidth": 1,
         "linecolor": "gray",
         "linewidth": 0.5,
         "mirror": true,
         "title": {
          "text": "$\\Large\\Delta f_\\lambda$"
         },
         "zerolinecolor": "#222A2A",
         "zerolinewidth": 2
        }
       }
      },
      "text/html": [
       "<div>                            <div id=\"11d20d8c-2651-46af-88ec-9f7f74312144\" class=\"plotly-graph-div\" style=\"height:525px; width:100%;\"></div>            <script type=\"text/javascript\">                require([\"plotly\"], function(Plotly) {                    window.PLOTLYENV=window.PLOTLYENV || {};                                    if (document.getElementById(\"11d20d8c-2651-46af-88ec-9f7f74312144\")) {                    Plotly.newPlot(                        \"11d20d8c-2651-46af-88ec-9f7f74312144\",                        [{\"legendgroup\":\"narrow lines\",\"legendgrouptitle\":{\"text\":\"narrow lines\"},\"legendrank\":11,\"line\":{\"color\":\"#00B5F7\",\"width\":1},\"mode\":\"lines\",\"name\":\"Hb_broad\",\"x\":[4751.1178327600555,4752.347690155631,4753.577547551206,4754.807404946781,4756.037262342357,4757.267119737932,4758.496977133507,4759.726834529082,4760.956691924658,4762.186549320233,4763.416406715808,4764.646264111384,4765.876121506959,4767.105978902534,4768.33583629811,4769.565693693685,4770.79555108926,4772.025408484836,4773.255265880411,4774.485123275986,4775.7149806715615,4776.9448380671365,4778.1746954627115,4779.404552858287,4780.634410253862,4781.864267649437,4783.094125045012,4784.323982440588,4785.553839836163,4786.783697231738,4788.013554627314,4789.243412022889,4790.473269418464,4791.70312681404,4792.932984209615,4794.16284160519,4795.392699000766,4796.622556396341,4797.852413791916,4799.082271187492,4800.312128583067,4801.541985978642,4802.7718433742175,4804.0017007697925,4805.2315581653675,4806.461415560942,4807.691272956518,4808.921130352093,4810.150987747668,4811.380845143244,4812.610702538819,4813.840559934394,4815.07041732997,4816.300274725545,4817.53013212112,4818.759989516696,4819.989846912271,4821.219704307846,4822.449561703422,4823.679419098997,4824.909276494572,4826.139133890148,4827.368991285723,4828.598848681298,4829.828706076873,4831.058563472448,4832.288420868023,4833.518278263598,4834.748135659174,4835.977993054749,4837.207850450324,4838.4377078459,4839.667565241475,4840.89742263705,4842.127280032626,4843.357137428201,4844.586994823776,4845.816852219352,4847.046709614927,4848.276567010502,4849.506424406077,4850.736281801653,4851.966139197228,4853.195996592803,4854.425853988379,4855.6557113839535,4856.8855687795285,4858.115426175104,4859.345283570679,4860.575140966254,4861.80499836183,4863.034855757405,4864.26471315298,4865.494570548556,4866.724427944131,4867.954285339706,4869.184142735282,4870.414000130857,4871.643857526432,4872.873714922007,4874.103572317583,4875.333429713158,4876.563287108733,4877.793144504309,4879.023001899884,4880.252859295459,4881.4827166910345,4882.7125740866095,4883.9424314821845,4885.17228887776,4886.402146273335,4887.63200366891,4888.861861064486,4890.091718460061,4891.321575855636,4892.551433251212,4893.781290646787,4895.011148042362,4896.241005437937,4897.470862833513,4898.700720229088,4899.930577624663,4901.160435020239,4902.390292415814,4903.620149811389,4904.850007206965,4906.07986460254,4907.309721998115,4908.5395793936905,4909.7694367892655,4910.99929418484,4912.229151580416,4913.459008975991,4914.688866371566,4915.918723767142,4917.148581162717,4918.378438558292,4919.608295953867,4920.838153349443,4922.068010745018,4923.297868140593,4924.527725536169,4925.757582931744,4926.987440327319,4928.217297722895,4929.44715511847,4930.677012514045,4931.906869909621,4933.136727305196,4934.3665847007705,4935.596442096346,4936.826299491921,4938.056156887496,4939.286014283071,4940.515871678647,4941.745729074222,4942.975586469797,4944.205443865373,4945.435301260948,4946.665158656523,4947.895016052099,4949.124873447674,4950.354730843249,4951.584588238825,4952.8144456344,4954.044303029975,4955.274160425551,4956.504017821126,4957.733875216701,4958.9637326122765,4960.1935900078515,4961.4234474034265,4962.6533047990015,4963.883162194577,4965.113019590152,4966.342876985727,4967.572734381303,4968.802591776878,4970.032449172453,4971.262306568029,4972.492163963604,4973.722021359179,4974.951878754755,4976.18173615033,4977.411593545905,4978.641450941481,4979.871308337056,4981.101165732631,4982.331023128207,4983.560880523782,4984.790737919357,4986.020595314932,4987.2504527105075,4988.4803101060825,4989.710167501657,4990.940024897233,4992.169882292808,4993.399739688383,4994.629597083959,4995.859454479534,4997.089311875109,4998.319169270685,4999.54902666626,5000.778884061835,5002.008741457411,5003.238598852986,5004.468456248561,5005.698313644137,5006.928171039712,5008.158028435287,5009.387885830862,5010.617743226438,5011.847600622013,5013.077458017588,5014.307315413163,5015.537172808738,5016.767030204313,5017.996887599889,5019.226744995464,5020.456602391039,5021.686459786615,5022.91631718219,5024.146174577765,5025.376031973341,5026.605889368916,5027.835746764491,5029.065604160066,5030.295461555642,5031.525318951217,5032.755176346792,5033.985033742368,5035.214891137943,5036.444748533518,5037.674605929094,5038.9044633246685,5040.1343207202435,5041.364178115819,5042.594035511394,5043.823892906969,5045.053750302545,5046.28360769812,5047.513465093695,5048.743322489271,5049.973179884846,5051.203037280421,5052.432894675996,5053.662752071572,5054.892609467147,5056.122466862722,5057.352324258298,5058.582181653873,5059.812039049448,5061.041896445024,5062.271753840599,5063.501611236174,5064.7314686317495,5065.9613260273245,5067.1911834228995,5068.421040818475,5069.65089821405,5070.880755609625,5072.110613005201,5073.340470400776,5074.570327796351,5075.800185191926,5077.030042587502,5078.259899983077,5079.489757378652,5080.719614774228,5081.949472169803,5083.179329565378,5084.409186960954,5085.639044356529,5086.868901752104,5088.09875914768,5089.328616543255,5090.55847393883,5091.7883313344055,5093.0181887299805,5094.248046125555,5095.477903521131,5096.707760916706,5097.937618312281,5099.167475707856],\"y\":[4.1358435507525296e-06,5.4561420198732455e-06,7.174514787048803e-06,9.403395628676351e-06,1.2284633004614516e-05,1.5996499973627075e-05,2.0762185034580433e-05,2.6860027282025238e-05,3.463579387404785e-05,4.451733400702253e-05,5.703198064474971e-05,7.282710817711257e-05,9.269428972312498e-05,0.0001175975303680876,0.00014870608031788813,0.00018743235249260557,0.00023547547982688042,0.00029487104549674265,0.00036804750112020505,0.0004578897500565063,0.0005678103114088033,0.0007018283912509956,0.0008646570669812768,0.0010617986347431674,0.00129964797510258,0.0015856035557439108,0.0019281854097894392,0.002337159103516736,0.002823664338163003,0.0034003464193065485,0.004081488378068177,0.004883141047449856,0.005823247893314639,0.0069217608842442446,0.008200743172025817,0.009684453861714577,0.011399409696610982,0.013374418091059149,0.015640575636534638,0.018231226009265977,0.02118187114667613,0.024530029660882025,0.028315036744777353,0.03257778032210324,0.03736036891569407,0.0427057276711712,0.0486571201842594,0.05525759523795451,0.06254935925243675,0.07057307716691744,0.07936710658028501,0.0889666722367536,0.09940299030363454,0.11070235429133676,0.12288519684118727,0.13596514387768943,0.1499480797065934,0.16483124345234185,0.18060237868174683,0.1972389590726451,0.2147075134788929,0.23296307364883415,0.2519487671201617,0.27159557640141957,0.2918222834410071,0.31253561558359993,0.33363060574723025,0.3549911754757131,0.37649094490577295,0.39799426863857507,0.4193574911422943,0.44043040977677783,0.46105792798033035,0.48108187575650446,0.5003429695156848,0.5186828787320851,0.5359463629310718,0.5519834393714808,0.5666515395608193,0.5798176115381932,0.5913601247520959,0.6011709353865305,0.6091569721494803,0.6152417057981061,0.6193663699617838,0.6214909060306845,0.6215946108639402,0.6196764726713561,0.615755187448039,0.6098688555885762,0.602074365565716,0.5924464786160908,0.5810766350279088,0.568071508683104,0.5535513417994669,0.5376480962048754,0.5205034608453044,0.502266757503774,0.48309278785007254,0.4631396649490309,0.44256667126118815,0.42153218304359935,0.4001916979973403,0.37869599913818025,0.3571894833311408,0.33580867788929736,0.3146809632603597,0.29392351428023156,0.2736424669285757,0.2539323121343569,0.23487551309079965,0.21654233787482186,0.1989908950285917,0.18226735622857207,0.1664063472962519,0.1514314866246074,0.13735604861040357,0.12418372887992424,0.11190948793871973,0.10052045031097072,0.08999683719623643,0.08031291208315758,0.07143792053932824,0.06333700745693009,0.05597209728975775,0.04930272518583916,0.04328680932302173,0.03788135712322067,0.033043100293349205,0.028729055765908257,0.024897011549771614,0.02150593822188689,0.018516328273640806,0.015890466761953746,0.01359263770355263,0.011589271397662521,0.009849038380684527,0.008342896024205071,0.007044093906561597,0.005928144042662625,0.004972761872298133,0.0041577836098773075,0.0034650651736326536,0.0028783674639725624,0.0023832322709432413,0.001966852579439803,0.0016179405251427136,0.0013265957486017753,0.0010841764111540243,0.0008831746835499587,0.0007170981028408833,0.0005803578195491127,0.00046816442773141406,0.0003764317858401637,0.0003016889954540004,0.00024100050605035635,0.0001918941542075947,0.0001522968215577794,0.00012047730367505107,9.499591792607998e-05,7.46603381492866e-05,5.848712400357989e-05,4.566840928727857e-05,3.5543223106494645e-05,2.7572937434914738e-05,2.132036167849491e-05,1.64320370274173e-05,1.2623318691367959e-05,9.66587096305472e-06,7.3772371444712675e-06,5.612182692387971e-06,4.255544738543841e-06,3.216353878287188e-06,2.4230244455720665e-06,1.8194372011263884e-06,1.3617633749767138e-06,1.0159013406803564e-06,7.554169444512289e-07,5.598958073478051e-07,4.136309365997073e-07,3.04581917223144e-07,2.2355301086364048e-07,1.63546869458141e-07,1.1925847517266015e-07,8.668053309440536e-08,6.279704381562841e-08,4.5346328568881945e-08,3.263851313127172e-08,2.3415525353901225e-08,1.6744136314722564e-08,1.1934573418263531e-08,8.47883833462346e-09,6.004144193613961e-09,4.23790461095398e-09,2.981511888611962e-09,2.090774614299095e-09,1.4613801230080052e-09,1.018132915965688e-09,7.070189680519801e-10,4.893763269277257e-10,3.376293194362793e-10,2.3217884926635014e-10,1.591440698112366e-10,1.0872854354586087e-10,7.404265542540786e-11,5.02580582610812e-11,3.400280383075223e-11,2.2930264222794557e-11,1.541305374995499e-11,1.0326511462749807e-11,6.89610514671576e-12,4.590282588756739e-12,3.0455117201212514e-12,2.0140323053407104e-12,1.3275714200994415e-12,8.722373125987415e-13,5.712112237493175e-13,3.728585517159323e-13,2.42592175426594e-13,1.5732392554558945e-13,1.0169464027967961e-13,6.552192664465346e-14,4.207852991684332e-14,2.6935172592832345e-14,1.718558307462437e-14,1.0929343734500218e-14,6.928021123403446e-15,4.37733340064988e-15,2.7567371162291917e-15,1.7304792089144144e-15,1.082736363372417e-15,6.752496445695403e-16,4.19750585437501e-16,2.6007796689157387e-16,1.606205531208228e-16,9.887442649460201e-17,6.066694733304687e-17,3.710270831769902e-17,2.2617488936040368e-17,1.3742586068966447e-17,8.32296080352357e-18,5.024265000135459e-18,3.0231001226801437e-18,1.8130835964066246e-18,1.0838481263869066e-18,6.458093647837662e-19,3.8355314682225155e-19,2.270555211297724e-19,1.3397503771909201e-19,7.87954270991791e-20,4.619164666504121e-20,2.6990515525524546e-20,1.5719698775453154e-20,9.12562386681357e-21,5.280392599393236e-21,3.045475904289633e-21,1.7507713311218835e-21,1.003203387152195e-21,5.729726049116786e-22,3.2618503381018295e-22,1.850885307966876e-22,1.046839955221062e-22,5.901553886927005e-23,3.316177501375989e-23,1.8573530559226687e-23,1.0368990236447176e-23,5.769840012314205e-24,3.2001945503984035e-24,1.769189267930004e-24,9.748942655739313e-25,5.3545877502379215e-25,2.9314323018242205e-25,1.5996280194929126e-25,8.700484568599021e-26,4.716862148909751e-26,2.5488732050198032e-26,1.3728673740085125e-26,7.370454020880088e-27,3.944075346957302e-27,2.1036886774694718e-27,1.1184151480384834e-27,5.926658676728717e-28,3.1304163048081013e-28,1.6480849067556526e-28],\"type\":\"scatter\",\"xaxis\":\"x\",\"yaxis\":\"y\"}],                        {\"template\":{\"data\":{\"histogram2dcontour\":[{\"type\":\"histogram2dcontour\",\"colorbar\":{\"outlinewidth\":0,\"ticks\":\"\"},\"colorscale\":[[0.0,\"#0d0887\"],[0.1111111111111111,\"#46039f\"],[0.2222222222222222,\"#7201a8\"],[0.3333333333333333,\"#9c179e\"],[0.4444444444444444,\"#bd3786\"],[0.5555555555555556,\"#d8576b\"],[0.6666666666666666,\"#ed7953\"],[0.7777777777777778,\"#fb9f3a\"],[0.8888888888888888,\"#fdca26\"],[1.0,\"#f0f921\"]]}],\"choropleth\":[{\"type\":\"choropleth\",\"colorbar\":{\"outlinewidth\":0,\"ticks\":\"\"}}],\"histogram2d\":[{\"type\":\"histogram2d\",\"colorbar\":{\"outlinewidth\":0,\"ticks\":\"\"},\"colorscale\":[[0.0,\"#0d0887\"],[0.1111111111111111,\"#46039f\"],[0.2222222222222222,\"#7201a8\"],[0.3333333333333333,\"#9c179e\"],[0.4444444444444444,\"#bd3786\"],[0.5555555555555556,\"#d8576b\"],[0.6666666666666666,\"#ed7953\"],[0.7777777777777778,\"#fb9f3a\"],[0.8888888888888888,\"#fdca26\"],[1.0,\"#f0f921\"]]}],\"heatmap\":[{\"type\":\"heatmap\",\"colorbar\":{\"outlinewidth\":0,\"ticks\":\"\"},\"colorscale\":[[0.0,\"#0d0887\"],[0.1111111111111111,\"#46039f\"],[0.2222222222222222,\"#7201a8\"],[0.3333333333333333,\"#9c179e\"],[0.4444444444444444,\"#bd3786\"],[0.5555555555555556,\"#d8576b\"],[0.6666666666666666,\"#ed7953\"],[0.7777777777777778,\"#fb9f3a\"],[0.8888888888888888,\"#fdca26\"],[1.0,\"#f0f921\"]]}],\"heatmapgl\":[{\"type\":\"heatmapgl\",\"colorbar\":{\"outlinewidth\":0,\"ticks\":\"\"},\"colorscale\":[[0.0,\"#0d0887\"],[0.1111111111111111,\"#46039f\"],[0.2222222222222222,\"#7201a8\"],[0.3333333333333333,\"#9c179e\"],[0.4444444444444444,\"#bd3786\"],[0.5555555555555556,\"#d8576b\"],[0.6666666666666666,\"#ed7953\"],[0.7777777777777778,\"#fb9f3a\"],[0.8888888888888888,\"#fdca26\"],[1.0,\"#f0f921\"]]}],\"contourcarpet\":[{\"type\":\"contourcarpet\",\"colorbar\":{\"outlinewidth\":0,\"ticks\":\"\"}}],\"contour\":[{\"type\":\"contour\",\"colorbar\":{\"outlinewidth\":0,\"ticks\":\"\"},\"colorscale\":[[0.0,\"#0d0887\"],[0.1111111111111111,\"#46039f\"],[0.2222222222222222,\"#7201a8\"],[0.3333333333333333,\"#9c179e\"],[0.4444444444444444,\"#bd3786\"],[0.5555555555555556,\"#d8576b\"],[0.6666666666666666,\"#ed7953\"],[0.7777777777777778,\"#fb9f3a\"],[0.8888888888888888,\"#fdca26\"],[1.0,\"#f0f921\"]]}],\"surface\":[{\"type\":\"surface\",\"colorbar\":{\"outlinewidth\":0,\"ticks\":\"\"},\"colorscale\":[[0.0,\"#0d0887\"],[0.1111111111111111,\"#46039f\"],[0.2222222222222222,\"#7201a8\"],[0.3333333333333333,\"#9c179e\"],[0.4444444444444444,\"#bd3786\"],[0.5555555555555556,\"#d8576b\"],[0.6666666666666666,\"#ed7953\"],[0.7777777777777778,\"#fb9f3a\"],[0.8888888888888888,\"#fdca26\"],[1.0,\"#f0f921\"]]}],\"mesh3d\":[{\"type\":\"mesh3d\",\"colorbar\":{\"outlinewidth\":0,\"ticks\":\"\"}}],\"scatter\":[{\"fillpattern\":{\"fillmode\":\"overlay\",\"size\":10,\"solidity\":0.2},\"type\":\"scatter\"}],\"parcoords\":[{\"type\":\"parcoords\",\"line\":{\"colorbar\":{\"outlinewidth\":0,\"ticks\":\"\"}}}],\"scatterpolargl\":[{\"type\":\"scatterpolargl\",\"marker\":{\"colorbar\":{\"outlinewidth\":0,\"ticks\":\"\"}}}],\"bar\":[{\"error_x\":{\"color\":\"#2a3f5f\"},\"error_y\":{\"color\":\"#2a3f5f\"},\"marker\":{\"line\":{\"color\":\"#E5ECF6\",\"width\":0.5},\"pattern\":{\"fillmode\":\"overlay\",\"size\":10,\"solidity\":0.2}},\"type\":\"bar\"}],\"scattergeo\":[{\"type\":\"scattergeo\",\"marker\":{\"colorbar\":{\"outlinewidth\":0,\"ticks\":\"\"}}}],\"scatterpolar\":[{\"type\":\"scatterpolar\",\"marker\":{\"colorbar\":{\"outlinewidth\":0,\"ticks\":\"\"}}}],\"histogram\":[{\"marker\":{\"pattern\":{\"fillmode\":\"overlay\",\"size\":10,\"solidity\":0.2}},\"type\":\"histogram\"}],\"scattergl\":[{\"type\":\"scattergl\",\"marker\":{\"colorbar\":{\"outlinewidth\":0,\"ticks\":\"\"}}}],\"scatter3d\":[{\"type\":\"scatter3d\",\"line\":{\"colorbar\":{\"outlinewidth\":0,\"ticks\":\"\"}},\"marker\":{\"colorbar\":{\"outlinewidth\":0,\"ticks\":\"\"}}}],\"scattermapbox\":[{\"type\":\"scattermapbox\",\"marker\":{\"colorbar\":{\"outlinewidth\":0,\"ticks\":\"\"}}}],\"scatterternary\":[{\"type\":\"scatterternary\",\"marker\":{\"colorbar\":{\"outlinewidth\":0,\"ticks\":\"\"}}}],\"scattercarpet\":[{\"type\":\"scattercarpet\",\"marker\":{\"colorbar\":{\"outlinewidth\":0,\"ticks\":\"\"}}}],\"carpet\":[{\"aaxis\":{\"endlinecolor\":\"#2a3f5f\",\"gridcolor\":\"white\",\"linecolor\":\"white\",\"minorgridcolor\":\"white\",\"startlinecolor\":\"#2a3f5f\"},\"baxis\":{\"endlinecolor\":\"#2a3f5f\",\"gridcolor\":\"white\",\"linecolor\":\"white\",\"minorgridcolor\":\"white\",\"startlinecolor\":\"#2a3f5f\"},\"type\":\"carpet\"}],\"table\":[{\"cells\":{\"fill\":{\"color\":\"#EBF0F8\"},\"line\":{\"color\":\"white\"}},\"header\":{\"fill\":{\"color\":\"#C8D4E3\"},\"line\":{\"color\":\"white\"}},\"type\":\"table\"}],\"barpolar\":[{\"marker\":{\"line\":{\"color\":\"#E5ECF6\",\"width\":0.5},\"pattern\":{\"fillmode\":\"overlay\",\"size\":10,\"solidity\":0.2}},\"type\":\"barpolar\"}],\"pie\":[{\"automargin\":true,\"type\":\"pie\"}]},\"layout\":{\"autotypenumbers\":\"strict\",\"colorway\":[\"#636efa\",\"#EF553B\",\"#00cc96\",\"#ab63fa\",\"#FFA15A\",\"#19d3f3\",\"#FF6692\",\"#B6E880\",\"#FF97FF\",\"#FECB52\"],\"font\":{\"color\":\"#2a3f5f\"},\"hovermode\":\"closest\",\"hoverlabel\":{\"align\":\"left\"},\"paper_bgcolor\":\"white\",\"plot_bgcolor\":\"#E5ECF6\",\"polar\":{\"bgcolor\":\"#E5ECF6\",\"angularaxis\":{\"gridcolor\":\"white\",\"linecolor\":\"white\",\"ticks\":\"\"},\"radialaxis\":{\"gridcolor\":\"white\",\"linecolor\":\"white\",\"ticks\":\"\"}},\"ternary\":{\"bgcolor\":\"#E5ECF6\",\"aaxis\":{\"gridcolor\":\"white\",\"linecolor\":\"white\",\"ticks\":\"\"},\"baxis\":{\"gridcolor\":\"white\",\"linecolor\":\"white\",\"ticks\":\"\"},\"caxis\":{\"gridcolor\":\"white\",\"linecolor\":\"white\",\"ticks\":\"\"}},\"coloraxis\":{\"colorbar\":{\"outlinewidth\":0,\"ticks\":\"\"}},\"colorscale\":{\"sequential\":[[0.0,\"#0d0887\"],[0.1111111111111111,\"#46039f\"],[0.2222222222222222,\"#7201a8\"],[0.3333333333333333,\"#9c179e\"],[0.4444444444444444,\"#bd3786\"],[0.5555555555555556,\"#d8576b\"],[0.6666666666666666,\"#ed7953\"],[0.7777777777777778,\"#fb9f3a\"],[0.8888888888888888,\"#fdca26\"],[1.0,\"#f0f921\"]],\"sequentialminus\":[[0.0,\"#0d0887\"],[0.1111111111111111,\"#46039f\"],[0.2222222222222222,\"#7201a8\"],[0.3333333333333333,\"#9c179e\"],[0.4444444444444444,\"#bd3786\"],[0.5555555555555556,\"#d8576b\"],[0.6666666666666666,\"#ed7953\"],[0.7777777777777778,\"#fb9f3a\"],[0.8888888888888888,\"#fdca26\"],[1.0,\"#f0f921\"]],\"diverging\":[[0,\"#8e0152\"],[0.1,\"#c51b7d\"],[0.2,\"#de77ae\"],[0.3,\"#f1b6da\"],[0.4,\"#fde0ef\"],[0.5,\"#f7f7f7\"],[0.6,\"#e6f5d0\"],[0.7,\"#b8e186\"],[0.8,\"#7fbc41\"],[0.9,\"#4d9221\"],[1,\"#276419\"]]},\"xaxis\":{\"gridcolor\":\"white\",\"linecolor\":\"white\",\"ticks\":\"\",\"title\":{\"standoff\":15},\"zerolinecolor\":\"white\",\"automargin\":true,\"zerolinewidth\":2},\"yaxis\":{\"gridcolor\":\"white\",\"linecolor\":\"white\",\"ticks\":\"\",\"title\":{\"standoff\":15},\"zerolinecolor\":\"white\",\"automargin\":true,\"zerolinewidth\":2},\"scene\":{\"xaxis\":{\"backgroundcolor\":\"#E5ECF6\",\"gridcolor\":\"white\",\"linecolor\":\"white\",\"showbackground\":true,\"ticks\":\"\",\"zerolinecolor\":\"white\",\"gridwidth\":2},\"yaxis\":{\"backgroundcolor\":\"#E5ECF6\",\"gridcolor\":\"white\",\"linecolor\":\"white\",\"showbackground\":true,\"ticks\":\"\",\"zerolinecolor\":\"white\",\"gridwidth\":2},\"zaxis\":{\"backgroundcolor\":\"#E5ECF6\",\"gridcolor\":\"white\",\"linecolor\":\"white\",\"showbackground\":true,\"ticks\":\"\",\"zerolinecolor\":\"white\",\"gridwidth\":2}},\"shapedefaults\":{\"line\":{\"color\":\"#2a3f5f\"}},\"annotationdefaults\":{\"arrowcolor\":\"#2a3f5f\",\"arrowhead\":0,\"arrowwidth\":1},\"geo\":{\"bgcolor\":\"white\",\"landcolor\":\"#E5ECF6\",\"subunitcolor\":\"white\",\"showland\":true,\"showlakes\":true,\"lakecolor\":\"white\"},\"title\":{\"x\":0.05},\"mapbox\":{\"style\":\"light\"}}},\"xaxis\":{\"anchor\":\"y\",\"domain\":[0.0,1.0],\"title\":{\"text\":\"$\\\\Large\\\\lambda_{\\\\rm{rest}}\\\\;\\\\left[\\u00c5\\\\right]$\"},\"linewidth\":0.5,\"linecolor\":\"gray\",\"mirror\":true,\"gridwidth\":1,\"gridcolor\":\"#222A2A\",\"zerolinewidth\":2,\"zerolinecolor\":\"#222A2A\",\"matches\":\"x\"},\"yaxis\":{\"anchor\":\"x\",\"domain\":[0.3625,1.0],\"title\":{\"text\":\"$\\\\Large f_\\\\lambda\\\\;\\\\left[\\\\rm{erg}\\\\;\\\\rm{cm}^{-2}\\\\;\\\\rm{s}^{-1}\\\\;\\u00c5^{-1}\\\\right]$\"},\"linewidth\":0.5,\"linecolor\":\"gray\",\"mirror\":true,\"gridwidth\":1,\"gridcolor\":\"#222A2A\",\"zerolinewidth\":2,\"zerolinecolor\":\"#222A2A\"},\"xaxis2\":{\"anchor\":\"y2\",\"domain\":[0.0,1.0],\"title\":{\"text\":\"$\\\\Large\\\\lambda_{\\\\rm{rest}}\\\\;\\\\left[\\u00c5\\\\right]$\"},\"linewidth\":0.5,\"linecolor\":\"gray\",\"mirror\":true,\"gridwidth\":1,\"gridcolor\":\"#222A2A\",\"zerolinewidth\":2,\"zerolinecolor\":\"#222A2A\",\"matches\":\"x\"},\"yaxis2\":{\"anchor\":\"x2\",\"domain\":[0.0,0.2125],\"title\":{\"text\":\"$\\\\Large\\\\Delta f_\\\\lambda$\"},\"linewidth\":0.5,\"linecolor\":\"gray\",\"mirror\":true,\"gridwidth\":1,\"gridcolor\":\"#222A2A\",\"zerolinewidth\":2,\"zerolinecolor\":\"#222A2A\"},\"shapes\":[{\"line\":{\"color\":\"gray\",\"width\":2},\"type\":\"line\",\"x0\":0,\"x1\":1,\"xref\":\"x domain\",\"y0\":0.0,\"y1\":0.0,\"yref\":\"y\"}]},                        {\"responsive\": true}                    ).then(function(){\n",
       "                            \n",
       "var gd = document.getElementById('11d20d8c-2651-46af-88ec-9f7f74312144');\n",
       "var x = new MutationObserver(function (mutations, observer) {{\n",
       "        var display = window.getComputedStyle(gd).display;\n",
       "        if (!display || display === 'none') {{\n",
       "            console.log([gd, 'removed!']);\n",
       "            Plotly.purge(gd);\n",
       "            observer.disconnect();\n",
       "        }}\n",
       "}});\n",
       "\n",
       "// Listen for the removal of the full notebook cells\n",
       "var notebookContainer = gd.closest('#notebook-container');\n",
       "if (notebookContainer) {{\n",
       "    x.observe(notebookContainer, {childList: true});\n",
       "}}\n",
       "\n",
       "// Listen for the clearing of the current output cell\n",
       "var outputEl = gd.closest('.output');\n",
       "if (outputEl) {{\n",
       "    x.observe(outputEl, {childList: true});\n",
       "}}\n",
       "\n",
       "                        })                };                });            </script>        </div>"
      ]
     },
     "metadata": {},
     "output_type": "display_data"
    }
   ],
   "source": [
    "plotly_best_fit(objname='Mrk1044', \n",
    "                line_list=['Hb_broad', 'core', 'wing'], \n",
    "                run_dir=Path('.'))"
   ]
  },
  {
   "cell_type": "code",
   "execution_count": null,
   "id": "ea59ca45",
   "metadata": {},
   "outputs": [],
   "source": []
  }
 ],
 "metadata": {
  "kernelspec": {
   "display_name": "Python 3 (ipykernel)",
   "language": "python",
   "name": "python3"
  },
  "language_info": {
   "codemirror_mode": {
    "name": "ipython",
    "version": 3
   },
   "file_extension": ".py",
   "mimetype": "text/x-python",
   "name": "python",
   "nbconvert_exporter": "python",
   "pygments_lexer": "ipython3",
   "version": "3.8.3"
  }
 },
 "nbformat": 4,
 "nbformat_minor": 5
}
